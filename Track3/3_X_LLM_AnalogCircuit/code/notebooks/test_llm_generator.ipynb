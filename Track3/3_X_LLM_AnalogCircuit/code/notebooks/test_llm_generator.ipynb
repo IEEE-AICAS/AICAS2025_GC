{
 "cells": [
  {
   "cell_type": "code",
   "execution_count": 1,
   "metadata": {},
   "outputs": [
    {
     "name": "stderr",
     "output_type": "stream",
     "text": [
      "2025-03-20 20:49:55 - root - INFO - === Amplifier Design System Started ===\n",
      "2025-03-20 20:49:55 - root - INFO - Log file created at: logs/amp_design_20250320_204955.log\n",
      "2025-03-20 20:49:55 - LLMGenerator - INFO - 开始生成响应...\n",
      "2025-03-20 20:50:28 - httpx - INFO - HTTP Request: POST http://localhost:11434/v1/chat/completions \"HTTP/1.1 200 OK\"\n",
      "2025-03-20 20:50:28 - LLMGenerator - INFO - 成功生成响应\n",
      "2025-03-20 20:50:28 - LLMGenerator - INFO - 生成的响应: 我是阿里云开发的一款超大规模语言模型，我叫通义千问。很高兴能为你解答问题和提供帮助！\n"
     ]
    },
    {
     "name": "stdout",
     "output_type": "stream",
     "text": [
      "我是阿里云开发的一款超大规模语言模型，我叫通义千问。很高兴能为你解答问题和提供帮助！\n"
     ]
    }
   ],
   "source": [
    "import sys\n",
    "sys.path.append('..')\n",
    "\n",
    "from utils.llm_generator import LLMGenerator\n",
    "# API配置\n",
    "api_config = {\n",
    "    \"model_type\": \"api\",\n",
    "    \"model_name\": \"qwen2.5_7b\",\n",
    "    \"api_key\": \"sk-zk25bb059bd482cb639fde4e4d8d1b524dd663f67cb7bbbd\",  # 替换为你的API密钥\n",
    "    \"base_url\": \"http://localhost:11434/v1\"  # 替换为实际的API地址\n",
    "}\n",
    "\n",
    "# 创建LLM生成器实例\n",
    "llm = LLMGenerator(**api_config)\n",
    "\n",
    "\n",
    "messages=[\n",
    "    {\"role\": \"system\", \"content\": \"You are a helpful assistant.\"},\n",
    "    {\"role\": \"user\", \"content\": \"你是谁，你的\"},\n",
    "]\n",
    "\n",
    "\n",
    "response = llm.generate(messages)\n",
    "print(response)"
   ]
  },
  {
   "cell_type": "code",
   "execution_count": 1,
   "metadata": {},
   "outputs": [
    {
     "name": "stdout",
     "output_type": "stream",
     "text": [
      "Transistor XM1: L=1.0, W=30.0\n",
      "  L and W are within the valid range [0.2, 100].\n",
      "Transistor XM2: L=1.0, W=30.0\n",
      "  L and W are within the valid range [0.2, 100].\n",
      "Transistor XM3: L=1.0, W=64.0\n",
      "  L and W are within the valid range [0.2, 100].\n",
      "Transistor XM4: L=1.0, W=64.0\n",
      "  L and W are within the valid range [0.2, 100].\n",
      "Transistor XM5: L=1.0, W=300.0\n",
      "  ERROR: L or W is out of the valid range [0.2, 100]!\n"
     ]
    }
   ],
   "source": [
    "import re\n",
    "\n",
    "# 定义网表内容\n",
    "netlist = \"\"\"\n",
    ".subckt AMP Vinp Vinn VDD VSS Vout\n",
    "XM1 net1 Vinn net3 VSS sky130_fd_pr__nfet_01v8 L=1 W=30 m=1\n",
    "XM2 net2 Vinp net3 VSS sky130_fd_pr__nfet_01v8 L=1 W=30 m=1\n",
    "I0 net3 VSS 50p\n",
    "XM3 net1 net1 VDD VDD sky130_fd_pr__pfet_01v8 L=1 W=64 m=1\n",
    "XM4 net2 net1 VDD VDD sky130_fd_pr__pfet_01v8 L=1 W=64 m=1\n",
    "XM5 Vout net2 VSS VSS sky130_fd_pr__nfet_01v8 L=1 W=300 m=1\n",
    "I1 VDD Vout 50p\n",
    "Cc net2 Vout 1p m=1\n",
    ".ends AMP\n",
    "\"\"\"\n",
    "\n",
    "# 正则表达式匹配 MOSFET 的 L 和 W 参数\n",
    "pattern = r\"XM\\d+\\s+\\S+\\s+\\S+\\s+\\S+\\s+\\S+\\s+sky130_fd_pr__\\w+\\s+L=([\\d.]+)\\s+W=([\\d.]+)\"\n",
    "\n",
    "# 查找所有匹配的 L 和 W 值\n",
    "matches = re.findall(pattern, netlist)\n",
    "\n",
    "# 定义参数范围\n",
    "min_value = 0.2\n",
    "max_value = 100\n",
    "\n",
    "# 检查每个 L 和 W 是否在范围内\n",
    "for idx, (L, W) in enumerate(matches, start=1):\n",
    "    L = float(L)\n",
    "    W = float(W)\n",
    "    print(f\"Transistor XM{idx}: L={L}, W={W}\")\n",
    "    \n",
    "    if min_value <= L <= max_value and min_value <= W <= max_value:\n",
    "        print(\"  L and W are within the valid range [0.2, 100].\")\n",
    "    else:\n",
    "        print(\"  ERROR: L or W is out of the valid range [0.2, 100]!\")"
   ]
  },
  {
   "cell_type": "code",
   "execution_count": 8,
   "metadata": {},
   "outputs": [
    {
     "name": "stdout",
     "output_type": "stream",
     "text": [
      "Best Netlist:\n",
      "{'name': 'Netlist3', 'Gain': 80, 'GBW': 150, 'SR': 250, 'PM': 55, 'Idc': 15, 'score': 76.5}\n"
     ]
    }
   ],
   "source": [
    "import numpy as np\n",
    "\n",
    "# 示例数据：每个网表的仿真结果\n",
    "netlists = [\n",
    "    {\"name\": \"Netlist1\", \"Gain\": 60, \"GBW\": 100, \"SR\": 200, \"PM\": 45, \"Idc\": 10},\n",
    "    {\"name\": \"Netlist2\", \"Gain\": 70, \"GBW\": 120, \"SR\": 220, \"PM\": 50, \"Idc\": 12},\n",
    "    {\"name\": \"Netlist3\", \"Gain\": 80, \"GBW\": 150, \"SR\": 250, \"PM\": 55, \"Idc\": 15},\n",
    "]\n",
    "\n",
    "# 计算每个指标的最大值和最小值\n",
    "Gainmax = max(net[\"Gain\"] for net in netlists)\n",
    "GBWmax = max(net[\"GBW\"] for net in netlists)\n",
    "SRmax = max(net[\"SR\"] for net in netlists)\n",
    "PMmax = max(net[\"PM\"] for net in netlists)\n",
    "Idcmax = max(net[\"Idc\"] for net in netlists)\n",
    "\n",
    "Gainmin = min(net[\"Gain\"] for net in netlists)\n",
    "GBWmin = min(net[\"GBW\"] for net in netlists)\n",
    "SRmin = min(net[\"SR\"] for net in netlists)\n",
    "PMmin = min(net[\"PM\"] for net in netlists)\n",
    "Idcmin = min(net[\"Idc\"] for net in netlists)\n",
    "\n",
    "# 计算每个网表的得分\n",
    "for net in netlists:\n",
    "    # 基础分计算\n",
    "    Gain_base = 12 if net[\"Gain\"] >= 60 else (net[\"Gain\"] / Gainmax) * 12\n",
    "    GBW_base = 12 if net[\"GBW\"] >= 20 else (net[\"GBW\"] / GBWmax) * 12\n",
    "    SR_base = 12 if net[\"SR\"] >= 20 else (net[\"SR\"] / SRmax) * 12\n",
    "    PM_base = 12 if net[\"PM\"] >= 60 else (net[\"PM\"] / PMmax) * 12\n",
    "    Idc_base = 12 if net[\"Idc\"] <= 500 else (Idcmax / net[\"Idc\"]) * 12\n",
    "\n",
    "    # 额外分计算\n",
    "    P_Idc = (1 - (net[\"Idc\"] - Idcmin) / (Idcmax - Idcmin)) * 6\n",
    "    P_Gain = ((net[\"Gain\"] - Gainmin) / (Gainmax - Gainmin)) * 4.5\n",
    "    P_GBW = ((net[\"GBW\"] - GBWmin) / (GBWmax - GBWmin)) * 4.5\n",
    "    P_SR = ((net[\"SR\"] - SRmin) / (SRmax - SRmin)) * 4.5\n",
    "    P_PM = ((net[\"PM\"] - PMmin) / (PMmax - PMmin)) * 3\n",
    "\n",
    "    # 总得分\n",
    "    total_score = (\n",
    "        Gain_base + GBW_base + SR_base + PM_base + Idc_base +\n",
    "        P_Idc + P_Gain + P_GBW + P_SR + P_PM\n",
    "    )\n",
    "\n",
    "    net[\"score\"] = total_score\n",
    "\n",
    "# 按得分排序并挑选最好的网表\n",
    "best_netlist = max(netlists, key=lambda x: x[\"score\"])\n",
    "\n",
    "# 输出结果\n",
    "print(\"Best Netlist:\")\n",
    "print(best_netlist)"
   ]
  }
 ],
 "metadata": {
  "kernelspec": {
   "display_name": "base",
   "language": "python",
   "name": "python3"
  },
  "language_info": {
   "codemirror_mode": {
    "name": "ipython",
    "version": 3
   },
   "file_extension": ".py",
   "mimetype": "text/x-python",
   "name": "python",
   "nbconvert_exporter": "python",
   "pygments_lexer": "ipython3",
   "version": "3.12.7"
  }
 },
 "nbformat": 4,
 "nbformat_minor": 2
}
